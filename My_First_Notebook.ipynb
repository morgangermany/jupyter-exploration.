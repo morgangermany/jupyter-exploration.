{
 "cells": [
  {
   "cell_type": "markdown",
   "id": "207af8c8-21ba-454d-8676-1931a032a556",
   "metadata": {},
   "source": [
    "My first markdown cell in Jupyter. "
   ]
  },
  {
   "cell_type": "code",
   "execution_count": 6,
   "id": "2082181e-954e-49dc-86d6-2926461c381e",
   "metadata": {},
   "outputs": [
    {
     "name": "stdout",
     "output_type": "stream",
     "text": [
      "Hello, World!\n"
     ]
    }
   ],
   "source": [
    "print(\"Hello, World!\")"
   ]
  },
  {
   "cell_type": "code",
   "execution_count": null,
   "id": "0d2264da-6c55-446f-b7e1-1c1baed24167",
   "metadata": {},
   "outputs": [],
   "source": []
  }
 ],
 "metadata": {
  "kernelspec": {
   "display_name": "Python 3 (ipykernel)",
   "language": "python",
   "name": "python3"
  },
  "language_info": {
   "codemirror_mode": {
    "name": "ipython",
    "version": 3
   },
   "file_extension": ".py",
   "mimetype": "text/x-python",
   "name": "python",
   "nbconvert_exporter": "python",
   "pygments_lexer": "ipython3",
   "version": "3.12.4"
  }
 },
 "nbformat": 4,
 "nbformat_minor": 5
}
